{
 "cells": [
  {
   "cell_type": "code",
   "execution_count": 19,
   "metadata": {
    "ExecuteTime": {
     "end_time": "2022-01-19T19:08:40.712371Z",
     "start_time": "2022-01-19T19:08:40.658835Z"
    }
   },
   "outputs": [],
   "source": [
    "import pandas as pd \n",
    "import numpy as np \n",
    "import matplotlib.pyplot as plt \n",
    "import seaborn as sns\n",
    "\n",
    "from sklearn.model_selection import KFold\n",
    "from sklearn.metrics import accuracy_score\n",
    "from sklearn.metrics import precision_score\n",
    "from sklearn.metrics import recall_score\n",
    "from sklearn.model_selection import train_test_split\n",
    "from sklearn.metrics import confusion_matrix\n",
    "\n",
    "from sklearn.preprocessing import StandardScaler\n",
    "\n",
    "from sklearn.linear_model import LogisticRegression\n",
    "from sklearn import svm\n",
    "from sklearn.neural_network import MLPClassifier\n",
    "from sklearn.ensemble import RandomForestClassifier\n",
    "from sklearn.naive_bayes import GaussianNB\n",
    "from sklearn.neighbors import KNeighborsClassifier"
   ]
  },
  {
   "cell_type": "code",
   "execution_count": 10,
   "metadata": {
    "ExecuteTime": {
     "end_time": "2022-01-19T18:56:40.105805Z",
     "start_time": "2022-01-19T18:56:39.974620Z"
    }
   },
   "outputs": [],
   "source": [
    "df = pd.read_csv(\"Speed Dating Data.csv\")"
   ]
  },
  {
   "cell_type": "code",
   "execution_count": 11,
   "metadata": {
    "ExecuteTime": {
     "end_time": "2022-01-19T18:56:40.429422Z",
     "start_time": "2022-01-19T18:56:40.425754Z"
    }
   },
   "outputs": [],
   "source": [
    "attributes = df[['attr','sinc','intel','fun','like','int_corr', 'match']]"
   ]
  },
  {
   "cell_type": "code",
   "execution_count": 12,
   "metadata": {
    "ExecuteTime": {
     "end_time": "2022-01-19T18:56:41.054142Z",
     "start_time": "2022-01-19T18:56:41.024991Z"
    }
   },
   "outputs": [
    {
     "data": {
      "text/html": [
       "<div>\n",
       "<style scoped>\n",
       "    .dataframe tbody tr th:only-of-type {\n",
       "        vertical-align: middle;\n",
       "    }\n",
       "\n",
       "    .dataframe tbody tr th {\n",
       "        vertical-align: top;\n",
       "    }\n",
       "\n",
       "    .dataframe thead th {\n",
       "        text-align: right;\n",
       "    }\n",
       "</style>\n",
       "<table border=\"1\" class=\"dataframe\">\n",
       "  <thead>\n",
       "    <tr style=\"text-align: right;\">\n",
       "      <th></th>\n",
       "      <th>attr</th>\n",
       "      <th>sinc</th>\n",
       "      <th>intel</th>\n",
       "      <th>fun</th>\n",
       "      <th>like</th>\n",
       "      <th>int_corr</th>\n",
       "      <th>match</th>\n",
       "    </tr>\n",
       "  </thead>\n",
       "  <tbody>\n",
       "    <tr>\n",
       "      <th>count</th>\n",
       "      <td>8176.000000</td>\n",
       "      <td>8101.000000</td>\n",
       "      <td>8082.000000</td>\n",
       "      <td>8028.000000</td>\n",
       "      <td>8138.000000</td>\n",
       "      <td>8220.000000</td>\n",
       "      <td>8378.000000</td>\n",
       "    </tr>\n",
       "    <tr>\n",
       "      <th>mean</th>\n",
       "      <td>6.189995</td>\n",
       "      <td>7.175164</td>\n",
       "      <td>7.368597</td>\n",
       "      <td>6.400598</td>\n",
       "      <td>6.134087</td>\n",
       "      <td>0.196010</td>\n",
       "      <td>0.164717</td>\n",
       "    </tr>\n",
       "    <tr>\n",
       "      <th>std</th>\n",
       "      <td>1.950169</td>\n",
       "      <td>1.740315</td>\n",
       "      <td>1.550453</td>\n",
       "      <td>1.953702</td>\n",
       "      <td>1.841285</td>\n",
       "      <td>0.303539</td>\n",
       "      <td>0.370947</td>\n",
       "    </tr>\n",
       "    <tr>\n",
       "      <th>min</th>\n",
       "      <td>0.000000</td>\n",
       "      <td>0.000000</td>\n",
       "      <td>0.000000</td>\n",
       "      <td>0.000000</td>\n",
       "      <td>0.000000</td>\n",
       "      <td>-0.830000</td>\n",
       "      <td>0.000000</td>\n",
       "    </tr>\n",
       "    <tr>\n",
       "      <th>25%</th>\n",
       "      <td>5.000000</td>\n",
       "      <td>6.000000</td>\n",
       "      <td>6.000000</td>\n",
       "      <td>5.000000</td>\n",
       "      <td>5.000000</td>\n",
       "      <td>-0.020000</td>\n",
       "      <td>0.000000</td>\n",
       "    </tr>\n",
       "    <tr>\n",
       "      <th>50%</th>\n",
       "      <td>6.000000</td>\n",
       "      <td>7.000000</td>\n",
       "      <td>7.000000</td>\n",
       "      <td>7.000000</td>\n",
       "      <td>6.000000</td>\n",
       "      <td>0.210000</td>\n",
       "      <td>0.000000</td>\n",
       "    </tr>\n",
       "    <tr>\n",
       "      <th>75%</th>\n",
       "      <td>8.000000</td>\n",
       "      <td>8.000000</td>\n",
       "      <td>8.000000</td>\n",
       "      <td>8.000000</td>\n",
       "      <td>7.000000</td>\n",
       "      <td>0.430000</td>\n",
       "      <td>0.000000</td>\n",
       "    </tr>\n",
       "    <tr>\n",
       "      <th>max</th>\n",
       "      <td>10.000000</td>\n",
       "      <td>10.000000</td>\n",
       "      <td>10.000000</td>\n",
       "      <td>10.000000</td>\n",
       "      <td>10.000000</td>\n",
       "      <td>0.910000</td>\n",
       "      <td>1.000000</td>\n",
       "    </tr>\n",
       "  </tbody>\n",
       "</table>\n",
       "</div>"
      ],
      "text/plain": [
       "              attr         sinc        intel          fun         like  \\\n",
       "count  8176.000000  8101.000000  8082.000000  8028.000000  8138.000000   \n",
       "mean      6.189995     7.175164     7.368597     6.400598     6.134087   \n",
       "std       1.950169     1.740315     1.550453     1.953702     1.841285   \n",
       "min       0.000000     0.000000     0.000000     0.000000     0.000000   \n",
       "25%       5.000000     6.000000     6.000000     5.000000     5.000000   \n",
       "50%       6.000000     7.000000     7.000000     7.000000     6.000000   \n",
       "75%       8.000000     8.000000     8.000000     8.000000     7.000000   \n",
       "max      10.000000    10.000000    10.000000    10.000000    10.000000   \n",
       "\n",
       "          int_corr        match  \n",
       "count  8220.000000  8378.000000  \n",
       "mean      0.196010     0.164717  \n",
       "std       0.303539     0.370947  \n",
       "min      -0.830000     0.000000  \n",
       "25%      -0.020000     0.000000  \n",
       "50%       0.210000     0.000000  \n",
       "75%       0.430000     0.000000  \n",
       "max       0.910000     1.000000  "
      ]
     },
     "execution_count": 12,
     "metadata": {},
     "output_type": "execute_result"
    }
   ],
   "source": [
    "attributes.describe()"
   ]
  },
  {
   "cell_type": "code",
   "execution_count": 13,
   "metadata": {
    "ExecuteTime": {
     "end_time": "2022-01-19T18:56:44.214697Z",
     "start_time": "2022-01-19T18:56:44.209294Z"
    }
   },
   "outputs": [
    {
     "data": {
      "text/plain": [
       "attr        202\n",
       "sinc        277\n",
       "intel       296\n",
       "fun         350\n",
       "like        240\n",
       "int_corr    158\n",
       "match         0\n",
       "dtype: int64"
      ]
     },
     "execution_count": 13,
     "metadata": {},
     "output_type": "execute_result"
    }
   ],
   "source": [
    "attributes.isnull().sum()"
   ]
  },
  {
   "cell_type": "code",
   "execution_count": 14,
   "metadata": {
    "ExecuteTime": {
     "end_time": "2022-01-19T18:56:44.884718Z",
     "start_time": "2022-01-19T18:56:44.879348Z"
    }
   },
   "outputs": [],
   "source": [
    "attributes_clean = attributes.dropna()"
   ]
  },
  {
   "cell_type": "code",
   "execution_count": 15,
   "metadata": {
    "ExecuteTime": {
     "end_time": "2022-01-19T18:56:45.170101Z",
     "start_time": "2022-01-19T18:56:45.143715Z"
    }
   },
   "outputs": [
    {
     "data": {
      "text/html": [
       "<div>\n",
       "<style scoped>\n",
       "    .dataframe tbody tr th:only-of-type {\n",
       "        vertical-align: middle;\n",
       "    }\n",
       "\n",
       "    .dataframe tbody tr th {\n",
       "        vertical-align: top;\n",
       "    }\n",
       "\n",
       "    .dataframe thead th {\n",
       "        text-align: right;\n",
       "    }\n",
       "</style>\n",
       "<table border=\"1\" class=\"dataframe\">\n",
       "  <thead>\n",
       "    <tr style=\"text-align: right;\">\n",
       "      <th></th>\n",
       "      <th>attr</th>\n",
       "      <th>sinc</th>\n",
       "      <th>intel</th>\n",
       "      <th>fun</th>\n",
       "      <th>like</th>\n",
       "      <th>int_corr</th>\n",
       "      <th>match</th>\n",
       "    </tr>\n",
       "  </thead>\n",
       "  <tbody>\n",
       "    <tr>\n",
       "      <th>count</th>\n",
       "      <td>7739.000000</td>\n",
       "      <td>7739.000000</td>\n",
       "      <td>7739.000000</td>\n",
       "      <td>7739.000000</td>\n",
       "      <td>7739.00000</td>\n",
       "      <td>7739.000000</td>\n",
       "      <td>7739.000000</td>\n",
       "    </tr>\n",
       "    <tr>\n",
       "      <th>mean</th>\n",
       "      <td>6.181794</td>\n",
       "      <td>7.172955</td>\n",
       "      <td>7.357281</td>\n",
       "      <td>6.399470</td>\n",
       "      <td>6.13118</td>\n",
       "      <td>0.196582</td>\n",
       "      <td>0.170306</td>\n",
       "    </tr>\n",
       "    <tr>\n",
       "      <th>std</th>\n",
       "      <td>1.947752</td>\n",
       "      <td>1.742623</td>\n",
       "      <td>1.548835</td>\n",
       "      <td>1.946785</td>\n",
       "      <td>1.83037</td>\n",
       "      <td>0.304227</td>\n",
       "      <td>0.375926</td>\n",
       "    </tr>\n",
       "    <tr>\n",
       "      <th>min</th>\n",
       "      <td>0.000000</td>\n",
       "      <td>0.000000</td>\n",
       "      <td>0.000000</td>\n",
       "      <td>0.000000</td>\n",
       "      <td>0.00000</td>\n",
       "      <td>-0.830000</td>\n",
       "      <td>0.000000</td>\n",
       "    </tr>\n",
       "    <tr>\n",
       "      <th>25%</th>\n",
       "      <td>5.000000</td>\n",
       "      <td>6.000000</td>\n",
       "      <td>6.000000</td>\n",
       "      <td>5.000000</td>\n",
       "      <td>5.00000</td>\n",
       "      <td>-0.015000</td>\n",
       "      <td>0.000000</td>\n",
       "    </tr>\n",
       "    <tr>\n",
       "      <th>50%</th>\n",
       "      <td>6.000000</td>\n",
       "      <td>7.000000</td>\n",
       "      <td>7.000000</td>\n",
       "      <td>7.000000</td>\n",
       "      <td>6.00000</td>\n",
       "      <td>0.210000</td>\n",
       "      <td>0.000000</td>\n",
       "    </tr>\n",
       "    <tr>\n",
       "      <th>75%</th>\n",
       "      <td>8.000000</td>\n",
       "      <td>8.000000</td>\n",
       "      <td>8.000000</td>\n",
       "      <td>8.000000</td>\n",
       "      <td>7.00000</td>\n",
       "      <td>0.430000</td>\n",
       "      <td>0.000000</td>\n",
       "    </tr>\n",
       "    <tr>\n",
       "      <th>max</th>\n",
       "      <td>10.000000</td>\n",
       "      <td>10.000000</td>\n",
       "      <td>10.000000</td>\n",
       "      <td>10.000000</td>\n",
       "      <td>10.00000</td>\n",
       "      <td>0.910000</td>\n",
       "      <td>1.000000</td>\n",
       "    </tr>\n",
       "  </tbody>\n",
       "</table>\n",
       "</div>"
      ],
      "text/plain": [
       "              attr         sinc        intel          fun        like  \\\n",
       "count  7739.000000  7739.000000  7739.000000  7739.000000  7739.00000   \n",
       "mean      6.181794     7.172955     7.357281     6.399470     6.13118   \n",
       "std       1.947752     1.742623     1.548835     1.946785     1.83037   \n",
       "min       0.000000     0.000000     0.000000     0.000000     0.00000   \n",
       "25%       5.000000     6.000000     6.000000     5.000000     5.00000   \n",
       "50%       6.000000     7.000000     7.000000     7.000000     6.00000   \n",
       "75%       8.000000     8.000000     8.000000     8.000000     7.00000   \n",
       "max      10.000000    10.000000    10.000000    10.000000    10.00000   \n",
       "\n",
       "          int_corr        match  \n",
       "count  7739.000000  7739.000000  \n",
       "mean      0.196582     0.170306  \n",
       "std       0.304227     0.375926  \n",
       "min      -0.830000     0.000000  \n",
       "25%      -0.015000     0.000000  \n",
       "50%       0.210000     0.000000  \n",
       "75%       0.430000     0.000000  \n",
       "max       0.910000     1.000000  "
      ]
     },
     "execution_count": 15,
     "metadata": {},
     "output_type": "execute_result"
    }
   ],
   "source": [
    "attributes_clean.describe()"
   ]
  },
  {
   "cell_type": "code",
   "execution_count": 18,
   "metadata": {
    "ExecuteTime": {
     "end_time": "2022-01-19T19:05:56.797942Z",
     "start_time": "2022-01-19T19:05:56.452030Z"
    }
   },
   "outputs": [
    {
     "data": {
      "text/plain": [
       "<matplotlib.axes._subplots.AxesSubplot at 0x7fdc414b3f40>"
      ]
     },
     "execution_count": 18,
     "metadata": {},
     "output_type": "execute_result"
    },
    {
     "data": {
      "image/png": "[encoded data removed]",
      "text/plain": [
       "<Figure size 432x288 with 2 Axes>"
      ]
     },
     "metadata": {
      "needs_background": "light"
     },
     "output_type": "display_data"
    }
   ],
   "source": [
    "sns.heatmap(attributes_clean.corr(), annot=True)"
   ]
  },
  {
   "cell_type": "code",
   "execution_count": 22,
   "metadata": {
    "ExecuteTime": {
     "end_time": "2022-01-19T19:14:42.006898Z",
     "start_time": "2022-01-19T19:14:41.999943Z"
    }
   },
   "outputs": [],
   "source": [
    "def cross_validation(X, y, model):\n",
    "    '''\n",
    "    K-Folds Cross-Validation\n",
    "    '''\n",
    "    X, y = np.array(X), np.array(y)\n",
    "    \n",
    "    kf = KFold(n_splits=5, shuffle=True, random_state=42)\n",
    "    results = []\n",
    "    results_precision = [] # added\n",
    "    results_recall = [] # added\n",
    "    for train_index, test_index in kf.split(X):\n",
    "        X_train, X_test = X[train_index], X[test_index]\n",
    "        y_train, y_test = y[train_index], y[test_index]\n",
    "        model.fit(X_train, y_train)\n",
    "        y_hat = model.predict(X_test)\n",
    "        results.append(accuracy_score(y_test, y_hat))\n",
    "        results_precision.append(precision_score(y_test, y_hat)) # added \n",
    "        results_recall.append(recall_score(y_test, y_hat)) # added \n",
    "        \n",
    "    return np.mean(results), np.std(results), np.mean(results_precision), np.mean(results_recall)\n",
    "\n"
   ]
  },
  {
   "cell_type": "code",
   "execution_count": 26,
   "metadata": {
    "ExecuteTime": {
     "end_time": "2022-01-19T19:15:47.250638Z",
     "start_time": "2022-01-19T19:15:47.246195Z"
    }
   },
   "outputs": [],
   "source": [
    "model_lr = LogisticRegression()\n",
    "\n",
    "model_svc = svm.SVC(kernel='rbf', C=2)\n",
    "\n",
    "model_nn = MLPClassifier(max_iter=10000, early_stopping=True, learning_rate=\"adaptive\", \n",
    "                      hidden_layer_sizes=(100,), learning_rate_init=1e-1)\n",
    "\n",
    "model_rf = RandomForestClassifier(max_depth=10, n_estimators=10, max_features=6)\n",
    "\n",
    "model_nb = GaussianNB()\n",
    "\n",
    "model_nc = KNeighborsClassifier(5)"
   ]
  },
  {
   "cell_type": "code",
   "execution_count": 27,
   "metadata": {
    "ExecuteTime": {
     "end_time": "2022-01-19T19:15:48.046433Z",
     "start_time": "2022-01-19T19:15:48.042268Z"
    }
   },
   "outputs": [],
   "source": [
    "features = attributes_clean.drop([\"match\"], axis=1)\n",
    "label = attributes_clean[[\"match\"]]"
   ]
  },
  {
   "cell_type": "code",
   "execution_count": 28,
   "metadata": {
    "ExecuteTime": {
     "end_time": "2022-01-19T19:15:48.390947Z",
     "start_time": "2022-01-19T19:15:48.375262Z"
    }
   },
   "outputs": [
    {
     "data": {
      "text/html": [
       "<div>\n",
       "<style scoped>\n",
       "    .dataframe tbody tr th:only-of-type {\n",
       "        vertical-align: middle;\n",
       "    }\n",
       "\n",
       "    .dataframe tbody tr th {\n",
       "        vertical-align: top;\n",
       "    }\n",
       "\n",
       "    .dataframe thead th {\n",
       "        text-align: right;\n",
       "    }\n",
       "</style>\n",
       "<table border=\"1\" class=\"dataframe\">\n",
       "  <thead>\n",
       "    <tr style=\"text-align: right;\">\n",
       "      <th></th>\n",
       "      <th>attr</th>\n",
       "      <th>sinc</th>\n",
       "      <th>intel</th>\n",
       "      <th>fun</th>\n",
       "      <th>like</th>\n",
       "      <th>int_corr</th>\n",
       "    </tr>\n",
       "  </thead>\n",
       "  <tbody>\n",
       "    <tr>\n",
       "      <th>0</th>\n",
       "      <td>6.0</td>\n",
       "      <td>9.0</td>\n",
       "      <td>7.0</td>\n",
       "      <td>7.0</td>\n",
       "      <td>7.0</td>\n",
       "      <td>0.14</td>\n",
       "    </tr>\n",
       "    <tr>\n",
       "      <th>1</th>\n",
       "      <td>7.0</td>\n",
       "      <td>8.0</td>\n",
       "      <td>7.0</td>\n",
       "      <td>8.0</td>\n",
       "      <td>7.0</td>\n",
       "      <td>0.54</td>\n",
       "    </tr>\n",
       "    <tr>\n",
       "      <th>2</th>\n",
       "      <td>5.0</td>\n",
       "      <td>8.0</td>\n",
       "      <td>9.0</td>\n",
       "      <td>8.0</td>\n",
       "      <td>7.0</td>\n",
       "      <td>0.16</td>\n",
       "    </tr>\n",
       "    <tr>\n",
       "      <th>3</th>\n",
       "      <td>7.0</td>\n",
       "      <td>6.0</td>\n",
       "      <td>8.0</td>\n",
       "      <td>7.0</td>\n",
       "      <td>7.0</td>\n",
       "      <td>0.61</td>\n",
       "    </tr>\n",
       "    <tr>\n",
       "      <th>4</th>\n",
       "      <td>5.0</td>\n",
       "      <td>6.0</td>\n",
       "      <td>7.0</td>\n",
       "      <td>7.0</td>\n",
       "      <td>6.0</td>\n",
       "      <td>0.21</td>\n",
       "    </tr>\n",
       "    <tr>\n",
       "      <th>...</th>\n",
       "      <td>...</td>\n",
       "      <td>...</td>\n",
       "      <td>...</td>\n",
       "      <td>...</td>\n",
       "      <td>...</td>\n",
       "      <td>...</td>\n",
       "    </tr>\n",
       "    <tr>\n",
       "      <th>8373</th>\n",
       "      <td>3.0</td>\n",
       "      <td>5.0</td>\n",
       "      <td>5.0</td>\n",
       "      <td>5.0</td>\n",
       "      <td>2.0</td>\n",
       "      <td>0.64</td>\n",
       "    </tr>\n",
       "    <tr>\n",
       "      <th>8374</th>\n",
       "      <td>4.0</td>\n",
       "      <td>6.0</td>\n",
       "      <td>8.0</td>\n",
       "      <td>4.0</td>\n",
       "      <td>4.0</td>\n",
       "      <td>0.71</td>\n",
       "    </tr>\n",
       "    <tr>\n",
       "      <th>8375</th>\n",
       "      <td>4.0</td>\n",
       "      <td>7.0</td>\n",
       "      <td>8.0</td>\n",
       "      <td>8.0</td>\n",
       "      <td>6.0</td>\n",
       "      <td>-0.46</td>\n",
       "    </tr>\n",
       "    <tr>\n",
       "      <th>8376</th>\n",
       "      <td>4.0</td>\n",
       "      <td>6.0</td>\n",
       "      <td>5.0</td>\n",
       "      <td>4.0</td>\n",
       "      <td>5.0</td>\n",
       "      <td>0.62</td>\n",
       "    </tr>\n",
       "    <tr>\n",
       "      <th>8377</th>\n",
       "      <td>3.0</td>\n",
       "      <td>7.0</td>\n",
       "      <td>6.0</td>\n",
       "      <td>4.0</td>\n",
       "      <td>4.0</td>\n",
       "      <td>0.01</td>\n",
       "    </tr>\n",
       "  </tbody>\n",
       "</table>\n",
       "<p>7739 rows × 6 columns</p>\n",
       "</div>"
      ],
      "text/plain": [
       "      attr  sinc  intel  fun  like  int_corr\n",
       "0      6.0   9.0    7.0  7.0   7.0      0.14\n",
       "1      7.0   8.0    7.0  8.0   7.0      0.54\n",
       "2      5.0   8.0    9.0  8.0   7.0      0.16\n",
       "3      7.0   6.0    8.0  7.0   7.0      0.61\n",
       "4      5.0   6.0    7.0  7.0   6.0      0.21\n",
       "...    ...   ...    ...  ...   ...       ...\n",
       "8373   3.0   5.0    5.0  5.0   2.0      0.64\n",
       "8374   4.0   6.0    8.0  4.0   4.0      0.71\n",
       "8375   4.0   7.0    8.0  8.0   6.0     -0.46\n",
       "8376   4.0   6.0    5.0  4.0   5.0      0.62\n",
       "8377   3.0   7.0    6.0  4.0   4.0      0.01\n",
       "\n",
       "[7739 rows x 6 columns]"
      ]
     },
     "execution_count": 28,
     "metadata": {},
     "output_type": "execute_result"
    }
   ],
   "source": [
    "features"
   ]
  },
  {
   "cell_type": "code",
   "execution_count": 29,
   "metadata": {
    "ExecuteTime": {
     "end_time": "2022-01-19T19:16:01.957775Z",
     "start_time": "2022-01-19T19:15:53.492415Z"
    }
   },
   "outputs": [
    {
     "name": "stderr",
     "output_type": "stream",
     "text": [
      "/Library/Frameworks/Python.framework/Versions/3.8/lib/python3.8/site-packages/sklearn/metrics/_classification.py:1221: UndefinedMetricWarning: Precision is ill-defined and being set to 0.0 due to no predicted samples. Use `zero_division` parameter to control this behavior.\n",
      "  _warn_prf(average, modifier, msg_start, len(result))\n",
      "/Library/Frameworks/Python.framework/Versions/3.8/lib/python3.8/site-packages/sklearn/metrics/_classification.py:1221: UndefinedMetricWarning: Precision is ill-defined and being set to 0.0 due to no predicted samples. Use `zero_division` parameter to control this behavior.\n",
      "  _warn_prf(average, modifier, msg_start, len(result))\n",
      "/Library/Frameworks/Python.framework/Versions/3.8/lib/python3.8/site-packages/sklearn/metrics/_classification.py:1221: UndefinedMetricWarning: Precision is ill-defined and being set to 0.0 due to no predicted samples. Use `zero_division` parameter to control this behavior.\n",
      "  _warn_prf(average, modifier, msg_start, len(result))\n",
      "/Library/Frameworks/Python.framework/Versions/3.8/lib/python3.8/site-packages/sklearn/metrics/_classification.py:1221: UndefinedMetricWarning: Precision is ill-defined and being set to 0.0 due to no predicted samples. Use `zero_division` parameter to control this behavior.\n",
      "  _warn_prf(average, modifier, msg_start, len(result))\n",
      "/Library/Frameworks/Python.framework/Versions/3.8/lib/python3.8/site-packages/sklearn/metrics/_classification.py:1221: UndefinedMetricWarning: Precision is ill-defined and being set to 0.0 due to no predicted samples. Use `zero_division` parameter to control this behavior.\n",
      "  _warn_prf(average, modifier, msg_start, len(result))\n",
      "/Library/Frameworks/Python.framework/Versions/3.8/lib/python3.8/site-packages/sklearn/metrics/_classification.py:1221: UndefinedMetricWarning: Precision is ill-defined and being set to 0.0 due to no predicted samples. Use `zero_division` parameter to control this behavior.\n",
      "  _warn_prf(average, modifier, msg_start, len(result))\n",
      "/Library/Frameworks/Python.framework/Versions/3.8/lib/python3.8/site-packages/sklearn/metrics/_classification.py:1221: UndefinedMetricWarning: Precision is ill-defined and being set to 0.0 due to no predicted samples. Use `zero_division` parameter to control this behavior.\n",
      "  _warn_prf(average, modifier, msg_start, len(result))\n",
      "/Library/Frameworks/Python.framework/Versions/3.8/lib/python3.8/site-packages/sklearn/metrics/_classification.py:1221: UndefinedMetricWarning: Precision is ill-defined and being set to 0.0 due to no predicted samples. Use `zero_division` parameter to control this behavior.\n",
      "  _warn_prf(average, modifier, msg_start, len(result))\n",
      "/Library/Frameworks/Python.framework/Versions/3.8/lib/python3.8/site-packages/sklearn/metrics/_classification.py:1221: UndefinedMetricWarning: Precision is ill-defined and being set to 0.0 due to no predicted samples. Use `zero_division` parameter to control this behavior.\n",
      "  _warn_prf(average, modifier, msg_start, len(result))\n"
     ]
    },
    {
     "name": "stdout",
     "output_type": "stream",
     "text": [
      "Score Logistic Regression: Mean Accuracy: 0.83, Std: 0.008\n",
      "Score Logistic Regression: Mean Precision: 0.46\n",
      "Score Logistic Regression: Mean Recall: 0.08\n",
      "\n",
      " --- \n",
      "\n",
      "Score Support Vector Classifier: Mean Accuracy: 0.83, Std: 0.009\n",
      "Score Support Vector Classifier: Mean Precision: 0.0\n",
      "Score Support Vector Classifier: Mean Recall: 0.0\n",
      "\n",
      " --- \n",
      "\n",
      "Score Multi Layer Perceptron (1 Hidden Layer): Mean Accuracy: 0.83, Std: 0.009\n",
      "Score Multi Layer Perceptron (1 Hidden Layer): Mean Precision:  0.15\n",
      "Score Multi Layer Perceptron (1 Hidden Layer): Mean Recall: 0.0\n",
      "\n",
      " --- \n",
      "\n",
      "Random Forest: Mean Accuracy: 0.82, Std: 0.011\n",
      "Random Forest: Mean Precision:  0.39\n",
      "Random Forest: Mean Recall: 0.09\n",
      "\n",
      " --- \n",
      "\n",
      "Naive Bayes: Mean Accuracy: 0.74, Std: 0.011\n",
      "Naive Bayes: Mean Precision: 0.34\n",
      "Naive Bayes: Mean Recall: 0.56\n",
      "\n",
      " --- \n",
      "\n",
      "Nearest Neighbor: Mean Accuracy: 0.81, Std: 0.012\n",
      "Nearest Neighbor: Mean Precision: 0.37\n",
      "Nearest Neighbor: Mean Recall: 0.17\n"
     ]
    }
   ],
   "source": [
    "score_lr = cross_validation(features, label.to_numpy().reshape(features.shape[0]), \n",
    "                            model_lr)\n",
    "\n",
    "score_svc = cross_validation(features, label.to_numpy().reshape(features.shape[0]), \n",
    "                            model_svc)\n",
    "\n",
    "score_nn = cross_validation(features, label.to_numpy().reshape(features.shape[0]), \n",
    "                            model_nn)\n",
    "\n",
    "score_rf = cross_validation(features, label.to_numpy().reshape(features.shape[0]), \n",
    "                            model_rf)\n",
    "\n",
    "score_nb = cross_validation(features, label.to_numpy().reshape(features.shape[0]), \n",
    "                            model_nb)\n",
    "\n",
    "score_nc = cross_validation(features, label.to_numpy().reshape(features.shape[0]), \n",
    "                            model_nc)\n",
    "\n",
    "print(f\"Score Logistic Regression: Mean Accuracy: {round(score_lr[0],2)}, Std: {round(score_lr[1],3)}\")\n",
    "print(f\"Score Logistic Regression: Mean Precision: {round(score_lr[2],2)}\")\n",
    "print(f\"Score Logistic Regression: Mean Recall: {round(score_lr[3],2)}\")\n",
    "print(\"\\n --- \\n\")\n",
    "\n",
    "print(f\"Score Support Vector Classifier: Mean Accuracy: {round(score_svc[0],2)}, Std: {round(score_svc[1],3)}\")\n",
    "print(f\"Score Support Vector Classifier: Mean Precision: {round(score_svc[2],2)}\")\n",
    "print(f\"Score Support Vector Classifier: Mean Recall: {round(score_svc[3],2)}\")\n",
    "print(\"\\n --- \\n\")\n",
    "\n",
    "print(f\"Score Multi Layer Perceptron (1 Hidden Layer): Mean Accuracy: {round(score_nn[0],2)}, Std: {round(score_nn[1],3)}\")\n",
    "print(f\"Score Multi Layer Perceptron (1 Hidden Layer): Mean Precision:  {round(score_nn[2],2)}\")\n",
    "print(f\"Score Multi Layer Perceptron (1 Hidden Layer): Mean Recall: {round(score_nn[3],2)}\")\n",
    "print(\"\\n --- \\n\")\n",
    "\n",
    "print(f\"Random Forest: Mean Accuracy: {round(score_rf[0],2)}, Std: {round(score_rf[1],3)}\")\n",
    "print(f\"Random Forest: Mean Precision:  {round(score_rf[2],2)}\")\n",
    "print(f\"Random Forest: Mean Recall: {round(score_rf[3],2)}\")\n",
    "print(\"\\n --- \\n\")\n",
    "\n",
    "print(f\"Naive Bayes: Mean Accuracy: {round(score_nb[0],2)}, Std: {round(score_nb[1],3)}\")\n",
    "print(f\"Naive Bayes: Mean Precision: {round(score_nb[2],2)}\")\n",
    "print(f\"Naive Bayes: Mean Recall: {round(score_nb[3],2)}\")\n",
    "print(\"\\n --- \\n\")\n",
    "\n",
    "print(f\"Nearest Neighbor: Mean Accuracy: {round(score_nc[0],2)}, Std: {round(score_nc[1],3)}\")\n",
    "print(f\"Nearest Neighbor: Mean Precision: {round(score_nc[2],2)}\")\n",
    "print(f\"Nearest Neighbor: Mean Recall: {round(score_nc[3],2)}\")"
   ]
  },
  {
   "cell_type": "code",
   "execution_count": null,
   "metadata": {},
   "outputs": [],
   "source": []
  }
 ],
 "metadata": {
  "kernelspec": {
   "display_name": "Python 3",
   "language": "python",
   "name": "python3"
  },
  "language_info": {
   "codemirror_mode": {
    "name": "ipython",
    "version": 3
   },
   "file_extension": ".py",
   "mimetype": "text/x-python",
   "name": "python",
   "nbconvert_exporter": "python",
   "pygments_lexer": "ipython3",
   "version": "3.8.1"
  }
 },
 "nbformat": 4,
 "nbformat_minor": 4
}
