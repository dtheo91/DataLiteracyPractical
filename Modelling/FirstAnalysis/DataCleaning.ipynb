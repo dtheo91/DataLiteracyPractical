{
 "cells": [
  {
   "cell_type": "code",
   "execution_count": 1,
   "metadata": {
    "ExecuteTime": {
     "end_time": "2022-01-25T09:56:26.598718Z",
     "start_time": "2022-01-25T09:56:26.258698Z"
    }
   },
   "outputs": [],
   "source": [
    "import pandas as pd \n",
    "import numpy as np "
   ]
  },
  {
   "cell_type": "code",
   "execution_count": 2,
   "metadata": {
    "ExecuteTime": {
     "end_time": "2022-01-25T09:56:26.731139Z",
     "start_time": "2022-01-25T09:56:26.600818Z"
    }
   },
   "outputs": [],
   "source": [
    "df = pd.read_csv(\"../../Speed Dating Data.csv\")"
   ]
  },
  {
   "cell_type": "markdown",
   "metadata": {},
   "source": [
    "## Cleaning Data"
   ]
  },
  {
   "cell_type": "code",
   "execution_count": 10,
   "metadata": {
    "ExecuteTime": {
     "end_time": "2022-01-25T09:59:44.107465Z",
     "start_time": "2022-01-25T09:59:44.103428Z"
    }
   },
   "outputs": [],
   "source": [
    "attributes = df[['attr','sinc','intel','fun','like','int_corr',\"dec\", \"gender\", \n",
    "                 \"amb\", \"samerace\", \"exphappy\", \"prob\"]]"
   ]
  },
  {
   "cell_type": "code",
   "execution_count": 11,
   "metadata": {
    "ExecuteTime": {
     "end_time": "2022-01-25T09:59:45.380994Z",
     "start_time": "2022-01-25T09:59:45.375423Z"
    }
   },
   "outputs": [
    {
     "data": {
      "text/plain": [
       "attr        202\n",
       "sinc        277\n",
       "intel       296\n",
       "fun         350\n",
       "like        240\n",
       "int_corr    158\n",
       "dec           0\n",
       "gender        0\n",
       "amb         712\n",
       "samerace      0\n",
       "exphappy    101\n",
       "prob        309\n",
       "dtype: int64"
      ]
     },
     "execution_count": 11,
     "metadata": {},
     "output_type": "execute_result"
    }
   ],
   "source": [
    "attributes.isnull().sum()"
   ]
  },
  {
   "cell_type": "code",
   "execution_count": 12,
   "metadata": {
    "ExecuteTime": {
     "end_time": "2022-01-25T09:59:45.549124Z",
     "start_time": "2022-01-25T09:59:45.543748Z"
    }
   },
   "outputs": [],
   "source": [
    "attributes_clean = attributes.dropna()"
   ]
  },
  {
   "cell_type": "code",
   "execution_count": 13,
   "metadata": {
    "ExecuteTime": {
     "end_time": "2022-01-25T09:59:45.742287Z",
     "start_time": "2022-01-25T09:59:45.703027Z"
    }
   },
   "outputs": [
    {
     "data": {
      "text/html": [
       "<div>\n",
       "<style scoped>\n",
       "    .dataframe tbody tr th:only-of-type {\n",
       "        vertical-align: middle;\n",
       "    }\n",
       "\n",
       "    .dataframe tbody tr th {\n",
       "        vertical-align: top;\n",
       "    }\n",
       "\n",
       "    .dataframe thead th {\n",
       "        text-align: right;\n",
       "    }\n",
       "</style>\n",
       "<table border=\"1\" class=\"dataframe\">\n",
       "  <thead>\n",
       "    <tr style=\"text-align: right;\">\n",
       "      <th></th>\n",
       "      <th>attr</th>\n",
       "      <th>sinc</th>\n",
       "      <th>intel</th>\n",
       "      <th>fun</th>\n",
       "      <th>like</th>\n",
       "      <th>int_corr</th>\n",
       "      <th>dec</th>\n",
       "      <th>gender</th>\n",
       "      <th>amb</th>\n",
       "      <th>samerace</th>\n",
       "      <th>exphappy</th>\n",
       "      <th>prob</th>\n",
       "    </tr>\n",
       "  </thead>\n",
       "  <tbody>\n",
       "    <tr>\n",
       "      <th>count</th>\n",
       "      <td>7308.000000</td>\n",
       "      <td>7308.000000</td>\n",
       "      <td>7308.000000</td>\n",
       "      <td>7308.000000</td>\n",
       "      <td>7308.000000</td>\n",
       "      <td>7308.000000</td>\n",
       "      <td>7308.000000</td>\n",
       "      <td>7308.000000</td>\n",
       "      <td>7308.000000</td>\n",
       "      <td>7308.000000</td>\n",
       "      <td>7308.000000</td>\n",
       "      <td>7308.000000</td>\n",
       "    </tr>\n",
       "    <tr>\n",
       "      <th>mean</th>\n",
       "      <td>6.177874</td>\n",
       "      <td>7.160441</td>\n",
       "      <td>7.354953</td>\n",
       "      <td>6.393336</td>\n",
       "      <td>6.121880</td>\n",
       "      <td>0.196182</td>\n",
       "      <td>0.428161</td>\n",
       "      <td>0.504242</td>\n",
       "      <td>6.767241</td>\n",
       "      <td>0.396004</td>\n",
       "      <td>5.526409</td>\n",
       "      <td>5.231390</td>\n",
       "    </tr>\n",
       "    <tr>\n",
       "      <th>std</th>\n",
       "      <td>1.945595</td>\n",
       "      <td>1.743730</td>\n",
       "      <td>1.551310</td>\n",
       "      <td>1.946531</td>\n",
       "      <td>1.833296</td>\n",
       "      <td>0.304534</td>\n",
       "      <td>0.494846</td>\n",
       "      <td>0.500016</td>\n",
       "      <td>1.790333</td>\n",
       "      <td>0.489099</td>\n",
       "      <td>1.743192</td>\n",
       "      <td>2.128123</td>\n",
       "    </tr>\n",
       "    <tr>\n",
       "      <th>min</th>\n",
       "      <td>0.000000</td>\n",
       "      <td>0.000000</td>\n",
       "      <td>0.000000</td>\n",
       "      <td>0.000000</td>\n",
       "      <td>0.000000</td>\n",
       "      <td>-0.830000</td>\n",
       "      <td>0.000000</td>\n",
       "      <td>0.000000</td>\n",
       "      <td>0.000000</td>\n",
       "      <td>0.000000</td>\n",
       "      <td>1.000000</td>\n",
       "      <td>0.000000</td>\n",
       "    </tr>\n",
       "    <tr>\n",
       "      <th>25%</th>\n",
       "      <td>5.000000</td>\n",
       "      <td>6.000000</td>\n",
       "      <td>6.000000</td>\n",
       "      <td>5.000000</td>\n",
       "      <td>5.000000</td>\n",
       "      <td>-0.020000</td>\n",
       "      <td>0.000000</td>\n",
       "      <td>0.000000</td>\n",
       "      <td>6.000000</td>\n",
       "      <td>0.000000</td>\n",
       "      <td>5.000000</td>\n",
       "      <td>4.000000</td>\n",
       "    </tr>\n",
       "    <tr>\n",
       "      <th>50%</th>\n",
       "      <td>6.000000</td>\n",
       "      <td>7.000000</td>\n",
       "      <td>7.000000</td>\n",
       "      <td>7.000000</td>\n",
       "      <td>6.000000</td>\n",
       "      <td>0.210000</td>\n",
       "      <td>0.000000</td>\n",
       "      <td>1.000000</td>\n",
       "      <td>7.000000</td>\n",
       "      <td>0.000000</td>\n",
       "      <td>6.000000</td>\n",
       "      <td>5.000000</td>\n",
       "    </tr>\n",
       "    <tr>\n",
       "      <th>75%</th>\n",
       "      <td>8.000000</td>\n",
       "      <td>8.000000</td>\n",
       "      <td>8.000000</td>\n",
       "      <td>8.000000</td>\n",
       "      <td>7.000000</td>\n",
       "      <td>0.430000</td>\n",
       "      <td>1.000000</td>\n",
       "      <td>1.000000</td>\n",
       "      <td>8.000000</td>\n",
       "      <td>1.000000</td>\n",
       "      <td>7.000000</td>\n",
       "      <td>7.000000</td>\n",
       "    </tr>\n",
       "    <tr>\n",
       "      <th>max</th>\n",
       "      <td>10.000000</td>\n",
       "      <td>10.000000</td>\n",
       "      <td>10.000000</td>\n",
       "      <td>10.000000</td>\n",
       "      <td>10.000000</td>\n",
       "      <td>0.910000</td>\n",
       "      <td>1.000000</td>\n",
       "      <td>1.000000</td>\n",
       "      <td>10.000000</td>\n",
       "      <td>1.000000</td>\n",
       "      <td>10.000000</td>\n",
       "      <td>10.000000</td>\n",
       "    </tr>\n",
       "  </tbody>\n",
       "</table>\n",
       "</div>"
      ],
      "text/plain": [
       "              attr         sinc        intel          fun         like  \\\n",
       "count  7308.000000  7308.000000  7308.000000  7308.000000  7308.000000   \n",
       "mean      6.177874     7.160441     7.354953     6.393336     6.121880   \n",
       "std       1.945595     1.743730     1.551310     1.946531     1.833296   \n",
       "min       0.000000     0.000000     0.000000     0.000000     0.000000   \n",
       "25%       5.000000     6.000000     6.000000     5.000000     5.000000   \n",
       "50%       6.000000     7.000000     7.000000     7.000000     6.000000   \n",
       "75%       8.000000     8.000000     8.000000     8.000000     7.000000   \n",
       "max      10.000000    10.000000    10.000000    10.000000    10.000000   \n",
       "\n",
       "          int_corr          dec       gender          amb     samerace  \\\n",
       "count  7308.000000  7308.000000  7308.000000  7308.000000  7308.000000   \n",
       "mean      0.196182     0.428161     0.504242     6.767241     0.396004   \n",
       "std       0.304534     0.494846     0.500016     1.790333     0.489099   \n",
       "min      -0.830000     0.000000     0.000000     0.000000     0.000000   \n",
       "25%      -0.020000     0.000000     0.000000     6.000000     0.000000   \n",
       "50%       0.210000     0.000000     1.000000     7.000000     0.000000   \n",
       "75%       0.430000     1.000000     1.000000     8.000000     1.000000   \n",
       "max       0.910000     1.000000     1.000000    10.000000     1.000000   \n",
       "\n",
       "          exphappy         prob  \n",
       "count  7308.000000  7308.000000  \n",
       "mean      5.526409     5.231390  \n",
       "std       1.743192     2.128123  \n",
       "min       1.000000     0.000000  \n",
       "25%       5.000000     4.000000  \n",
       "50%       6.000000     5.000000  \n",
       "75%       7.000000     7.000000  \n",
       "max      10.000000    10.000000  "
      ]
     },
     "execution_count": 13,
     "metadata": {},
     "output_type": "execute_result"
    }
   ],
   "source": [
    "attributes_clean.describe()"
   ]
  },
  {
   "cell_type": "markdown",
   "metadata": {},
   "source": [
    "## Split Genders"
   ]
  },
  {
   "cell_type": "code",
   "execution_count": 14,
   "metadata": {
    "ExecuteTime": {
     "end_time": "2022-01-25T09:59:50.010474Z",
     "start_time": "2022-01-25T09:59:50.001599Z"
    }
   },
   "outputs": [],
   "source": [
    "attr_clean_women = attributes_clean[attributes_clean[\"gender\"]==0]\n",
    "attr_clean_women = attr_clean_women.drop([\"gender\"], axis=1)\n",
    "attr_clean_men = attributes_clean[attributes_clean[\"gender\"]==1]\n",
    "attr_clean_men = attr_clean_men.drop([\"gender\"], axis=1) \n",
    "attributes_clean = attributes_clean.drop([\"gender\"],axis=1)"
   ]
  },
  {
   "cell_type": "markdown",
   "metadata": {},
   "source": [
    "## Train/Validation/Test Split"
   ]
  },
  {
   "cell_type": "code",
   "execution_count": 40,
   "metadata": {
    "ExecuteTime": {
     "end_time": "2022-01-25T10:09:12.621142Z",
     "start_time": "2022-01-25T10:09:12.614985Z"
    }
   },
   "outputs": [],
   "source": [
    "attr_clean_women_label = attr_clean_women[[\"dec\"]]\n",
    "attr_clean_women_features = attr_clean_women.drop([\"dec\"], axis = 1)\n",
    "\n",
    "attr_clean_men_label = attr_clean_men[[\"dec\"]]\n",
    "attr_clean_men_features = attr_clean_men.drop([\"dec\"], axis = 1)"
   ]
  },
  {
   "cell_type": "code",
   "execution_count": 41,
   "metadata": {
    "ExecuteTime": {
     "end_time": "2022-01-25T10:09:13.061441Z",
     "start_time": "2022-01-25T10:09:13.053920Z"
    }
   },
   "outputs": [],
   "source": [
    "from sklearn.model_selection import train_test_split\n",
    "\n",
    "wX_train, wX_test, wy_train, wy_test = train_test_split(attr_clean_women_features, \n",
    "                                                        attr_clean_women_label, \n",
    "                                                        test_size=0.2)\n",
    "\n",
    "mX_train, mX_test, my_train, my_test = train_test_split(attr_clean_men_features, \n",
    "                                                        attr_clean_men_label, \n",
    "                                                        test_size=0.2)\n"
   ]
  },
  {
   "cell_type": "code",
   "execution_count": 42,
   "metadata": {
    "ExecuteTime": {
     "end_time": "2022-01-25T10:09:13.439803Z",
     "start_time": "2022-01-25T10:09:13.432974Z"
    }
   },
   "outputs": [],
   "source": [
    "wX_train, wX_val, wy_train, wy_val = train_test_split(wX_train, \n",
    "                                                        wy_train, \n",
    "                                                        test_size=0.3)\n",
    "\n",
    "mX_train, mX_val, my_train, my_val = train_test_split(mX_train, \n",
    "                                                        my_train, \n",
    "                                                        test_size=0.3)"
   ]
  },
  {
   "cell_type": "markdown",
   "metadata": {},
   "source": [
    "## Save CSVs"
   ]
  },
  {
   "cell_type": "code",
   "execution_count": 47,
   "metadata": {
    "ExecuteTime": {
     "end_time": "2022-01-25T10:25:06.403434Z",
     "start_time": "2022-01-25T10:25:06.347314Z"
    }
   },
   "outputs": [],
   "source": [
    "wX_train.to_csv('wXtrain.csv',index=False)\n",
    "wX_val.to_csv('wXval.csv',index=False)\n",
    "wX_test.to_csv(\"wXtest.csv\",index=False)\n",
    "\n",
    "wy_train.to_csv('wytrain.csv',index=False)\n",
    "wy_val.to_csv('wyval.csv',index=False)\n",
    "wy_test.to_csv('wytest.csv',index=False)\n",
    "\n",
    "mX_train.to_csv('mXtrain.csv',index=False)\n",
    "mX_val.to_csv('mXval.csv',index=False)\n",
    "mX_test.to_csv(\"mXtest.csv\",index=False)\n",
    "\n",
    "my_train.to_csv('mytrain.csv',index=False)\n",
    "my_val.to_csv('myval.csv',index=False)\n",
    "my_test.to_csv(\"mytest.csv\",index=False)"
   ]
  },
  {
   "cell_type": "code",
   "execution_count": null,
   "metadata": {
    "ExecuteTime": {
     "end_time": "2022-01-25T10:16:40.054703Z",
     "start_time": "2022-01-25T10:16:40.032672Z"
    }
   },
   "outputs": [],
   "source": []
  },
  {
   "cell_type": "code",
   "execution_count": null,
   "metadata": {},
   "outputs": [],
   "source": []
  }
 ],
 "metadata": {
  "kernelspec": {
   "display_name": "Python 3",
   "language": "python",
   "name": "python3"
  },
  "language_info": {
   "codemirror_mode": {
    "name": "ipython",
    "version": 3
   },
   "file_extension": ".py",
   "mimetype": "text/x-python",
   "name": "python",
   "nbconvert_exporter": "python",
   "pygments_lexer": "ipython3",
   "version": "3.8.1"
  }
 },
 "nbformat": 4,
 "nbformat_minor": 4
}
