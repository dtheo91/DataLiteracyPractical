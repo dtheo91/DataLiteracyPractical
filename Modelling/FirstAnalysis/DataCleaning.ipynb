{
 "cells": [
  {
   "cell_type": "code",
   "execution_count": 1,
   "metadata": {
    "ExecuteTime": {
     "end_time": "2022-01-24T12:00:13.342341Z",
     "start_time": "2022-01-24T12:00:12.764122Z"
    }
   },
   "outputs": [],
   "source": [
    "import pandas as pd \n",
    "import numpy as np "
   ]
  },
  {
   "cell_type": "code",
   "execution_count": 3,
   "metadata": {
    "ExecuteTime": {
     "end_time": "2022-01-24T12:00:29.415338Z",
     "start_time": "2022-01-24T12:00:29.288604Z"
    }
   },
   "outputs": [],
   "source": [
    "df = pd.read_csv(\"../../Speed Dating Data.csv\")"
   ]
  },
  {
   "cell_type": "markdown",
   "metadata": {},
   "source": [
    "## Cleaning Data"
   ]
  },
  {
   "cell_type": "code",
   "execution_count": 5,
   "metadata": {
    "ExecuteTime": {
     "end_time": "2022-01-24T12:00:49.087513Z",
     "start_time": "2022-01-24T12:00:49.083507Z"
    }
   },
   "outputs": [],
   "source": [
    "attributes = df[['attr','sinc','intel','fun','like','int_corr', 'match',\"dec\", \"gender\", \n",
    "                 \"amb\", \"samerace\", \"exphappy\", \"prob\"]]"
   ]
  },
  {
   "cell_type": "code",
   "execution_count": 7,
   "metadata": {
    "ExecuteTime": {
     "end_time": "2022-01-24T12:01:25.499519Z",
     "start_time": "2022-01-24T12:01:25.493971Z"
    }
   },
   "outputs": [
    {
     "data": {
      "text/plain": [
       "attr        202\n",
       "sinc        277\n",
       "intel       296\n",
       "fun         350\n",
       "like        240\n",
       "int_corr    158\n",
       "match         0\n",
       "dec           0\n",
       "gender        0\n",
       "amb         712\n",
       "samerace      0\n",
       "exphappy    101\n",
       "prob        309\n",
       "dtype: int64"
      ]
     },
     "execution_count": 7,
     "metadata": {},
     "output_type": "execute_result"
    }
   ],
   "source": [
    "attributes.isnull().sum()"
   ]
  },
  {
   "cell_type": "code",
   "execution_count": 8,
   "metadata": {
    "ExecuteTime": {
     "end_time": "2022-01-24T12:01:35.700989Z",
     "start_time": "2022-01-24T12:01:35.694255Z"
    }
   },
   "outputs": [],
   "source": [
    "attributes_clean = attributes.dropna()"
   ]
  },
  {
   "cell_type": "code",
   "execution_count": 15,
   "metadata": {
    "ExecuteTime": {
     "end_time": "2022-01-24T12:13:56.783125Z",
     "start_time": "2022-01-24T12:13:56.741662Z"
    }
   },
   "outputs": [
    {
     "data": {
      "text/html": [
       "<div>\n",
       "<style scoped>\n",
       "    .dataframe tbody tr th:only-of-type {\n",
       "        vertical-align: middle;\n",
       "    }\n",
       "\n",
       "    .dataframe tbody tr th {\n",
       "        vertical-align: top;\n",
       "    }\n",
       "\n",
       "    .dataframe thead th {\n",
       "        text-align: right;\n",
       "    }\n",
       "</style>\n",
       "<table border=\"1\" class=\"dataframe\">\n",
       "  <thead>\n",
       "    <tr style=\"text-align: right;\">\n",
       "      <th></th>\n",
       "      <th>attr</th>\n",
       "      <th>sinc</th>\n",
       "      <th>intel</th>\n",
       "      <th>fun</th>\n",
       "      <th>like</th>\n",
       "      <th>int_corr</th>\n",
       "      <th>match</th>\n",
       "      <th>dec</th>\n",
       "      <th>amb</th>\n",
       "      <th>samerace</th>\n",
       "      <th>exphappy</th>\n",
       "      <th>prob</th>\n",
       "    </tr>\n",
       "  </thead>\n",
       "  <tbody>\n",
       "    <tr>\n",
       "      <th>count</th>\n",
       "      <td>7308.000000</td>\n",
       "      <td>7308.000000</td>\n",
       "      <td>7308.000000</td>\n",
       "      <td>7308.000000</td>\n",
       "      <td>7308.000000</td>\n",
       "      <td>7308.000000</td>\n",
       "      <td>7308.000000</td>\n",
       "      <td>7308.000000</td>\n",
       "      <td>7308.000000</td>\n",
       "      <td>7308.000000</td>\n",
       "      <td>7308.000000</td>\n",
       "      <td>7308.000000</td>\n",
       "    </tr>\n",
       "    <tr>\n",
       "      <th>mean</th>\n",
       "      <td>6.177874</td>\n",
       "      <td>7.160441</td>\n",
       "      <td>7.354953</td>\n",
       "      <td>6.393336</td>\n",
       "      <td>6.121880</td>\n",
       "      <td>0.196182</td>\n",
       "      <td>0.169951</td>\n",
       "      <td>0.428161</td>\n",
       "      <td>6.767241</td>\n",
       "      <td>0.396004</td>\n",
       "      <td>5.526409</td>\n",
       "      <td>5.231390</td>\n",
       "    </tr>\n",
       "    <tr>\n",
       "      <th>std</th>\n",
       "      <td>1.945595</td>\n",
       "      <td>1.743730</td>\n",
       "      <td>1.551310</td>\n",
       "      <td>1.946531</td>\n",
       "      <td>1.833296</td>\n",
       "      <td>0.304534</td>\n",
       "      <td>0.375615</td>\n",
       "      <td>0.494846</td>\n",
       "      <td>1.790333</td>\n",
       "      <td>0.489099</td>\n",
       "      <td>1.743192</td>\n",
       "      <td>2.128123</td>\n",
       "    </tr>\n",
       "    <tr>\n",
       "      <th>min</th>\n",
       "      <td>0.000000</td>\n",
       "      <td>0.000000</td>\n",
       "      <td>0.000000</td>\n",
       "      <td>0.000000</td>\n",
       "      <td>0.000000</td>\n",
       "      <td>-0.830000</td>\n",
       "      <td>0.000000</td>\n",
       "      <td>0.000000</td>\n",
       "      <td>0.000000</td>\n",
       "      <td>0.000000</td>\n",
       "      <td>1.000000</td>\n",
       "      <td>0.000000</td>\n",
       "    </tr>\n",
       "    <tr>\n",
       "      <th>25%</th>\n",
       "      <td>5.000000</td>\n",
       "      <td>6.000000</td>\n",
       "      <td>6.000000</td>\n",
       "      <td>5.000000</td>\n",
       "      <td>5.000000</td>\n",
       "      <td>-0.020000</td>\n",
       "      <td>0.000000</td>\n",
       "      <td>0.000000</td>\n",
       "      <td>6.000000</td>\n",
       "      <td>0.000000</td>\n",
       "      <td>5.000000</td>\n",
       "      <td>4.000000</td>\n",
       "    </tr>\n",
       "    <tr>\n",
       "      <th>50%</th>\n",
       "      <td>6.000000</td>\n",
       "      <td>7.000000</td>\n",
       "      <td>7.000000</td>\n",
       "      <td>7.000000</td>\n",
       "      <td>6.000000</td>\n",
       "      <td>0.210000</td>\n",
       "      <td>0.000000</td>\n",
       "      <td>0.000000</td>\n",
       "      <td>7.000000</td>\n",
       "      <td>0.000000</td>\n",
       "      <td>6.000000</td>\n",
       "      <td>5.000000</td>\n",
       "    </tr>\n",
       "    <tr>\n",
       "      <th>75%</th>\n",
       "      <td>8.000000</td>\n",
       "      <td>8.000000</td>\n",
       "      <td>8.000000</td>\n",
       "      <td>8.000000</td>\n",
       "      <td>7.000000</td>\n",
       "      <td>0.430000</td>\n",
       "      <td>0.000000</td>\n",
       "      <td>1.000000</td>\n",
       "      <td>8.000000</td>\n",
       "      <td>1.000000</td>\n",
       "      <td>7.000000</td>\n",
       "      <td>7.000000</td>\n",
       "    </tr>\n",
       "    <tr>\n",
       "      <th>max</th>\n",
       "      <td>10.000000</td>\n",
       "      <td>10.000000</td>\n",
       "      <td>10.000000</td>\n",
       "      <td>10.000000</td>\n",
       "      <td>10.000000</td>\n",
       "      <td>0.910000</td>\n",
       "      <td>1.000000</td>\n",
       "      <td>1.000000</td>\n",
       "      <td>10.000000</td>\n",
       "      <td>1.000000</td>\n",
       "      <td>10.000000</td>\n",
       "      <td>10.000000</td>\n",
       "    </tr>\n",
       "  </tbody>\n",
       "</table>\n",
       "</div>"
      ],
      "text/plain": [
       "              attr         sinc        intel          fun         like  \\\n",
       "count  7308.000000  7308.000000  7308.000000  7308.000000  7308.000000   \n",
       "mean      6.177874     7.160441     7.354953     6.393336     6.121880   \n",
       "std       1.945595     1.743730     1.551310     1.946531     1.833296   \n",
       "min       0.000000     0.000000     0.000000     0.000000     0.000000   \n",
       "25%       5.000000     6.000000     6.000000     5.000000     5.000000   \n",
       "50%       6.000000     7.000000     7.000000     7.000000     6.000000   \n",
       "75%       8.000000     8.000000     8.000000     8.000000     7.000000   \n",
       "max      10.000000    10.000000    10.000000    10.000000    10.000000   \n",
       "\n",
       "          int_corr        match          dec          amb     samerace  \\\n",
       "count  7308.000000  7308.000000  7308.000000  7308.000000  7308.000000   \n",
       "mean      0.196182     0.169951     0.428161     6.767241     0.396004   \n",
       "std       0.304534     0.375615     0.494846     1.790333     0.489099   \n",
       "min      -0.830000     0.000000     0.000000     0.000000     0.000000   \n",
       "25%      -0.020000     0.000000     0.000000     6.000000     0.000000   \n",
       "50%       0.210000     0.000000     0.000000     7.000000     0.000000   \n",
       "75%       0.430000     0.000000     1.000000     8.000000     1.000000   \n",
       "max       0.910000     1.000000     1.000000    10.000000     1.000000   \n",
       "\n",
       "          exphappy         prob  \n",
       "count  7308.000000  7308.000000  \n",
       "mean      5.526409     5.231390  \n",
       "std       1.743192     2.128123  \n",
       "min       1.000000     0.000000  \n",
       "25%       5.000000     4.000000  \n",
       "50%       6.000000     5.000000  \n",
       "75%       7.000000     7.000000  \n",
       "max      10.000000    10.000000  "
      ]
     },
     "execution_count": 15,
     "metadata": {},
     "output_type": "execute_result"
    }
   ],
   "source": [
    "attributes_clean.describe()"
   ]
  },
  {
   "cell_type": "markdown",
   "metadata": {},
   "source": [
    "## Split Genders"
   ]
  },
  {
   "cell_type": "code",
   "execution_count": 10,
   "metadata": {
    "ExecuteTime": {
     "end_time": "2022-01-24T12:02:05.593428Z",
     "start_time": "2022-01-24T12:02:05.584837Z"
    }
   },
   "outputs": [],
   "source": [
    "attr_clean_women = attributes_clean[attributes_clean[\"gender\"]==0]\n",
    "attr_clean_women = attr_clean_women.drop([\"gender\"], axis=1)\n",
    "attr_clean_men = attributes_clean[attributes_clean[\"gender\"]==1]\n",
    "attr_clean_men = attr_clean_men.drop([\"gender\"], axis=1) \n",
    "attributes_clean = attributes_clean.drop([\"gender\"],axis=1)"
   ]
  },
  {
   "cell_type": "markdown",
   "metadata": {},
   "source": [
    "## Train/Validation/Test Split"
   ]
  },
  {
   "cell_type": "code",
   "execution_count": null,
   "metadata": {},
   "outputs": [],
   "source": []
  },
  {
   "cell_type": "markdown",
   "metadata": {},
   "source": [
    "## Save CSVs"
   ]
  },
  {
   "cell_type": "code",
   "execution_count": null,
   "metadata": {},
   "outputs": [],
   "source": []
  }
 ],
 "metadata": {
  "kernelspec": {
   "display_name": "Python 3",
   "language": "python",
   "name": "python3"
  },
  "language_info": {
   "codemirror_mode": {
    "name": "ipython",
    "version": 3
   },
   "file_extension": ".py",
   "mimetype": "text/x-python",
   "name": "python",
   "nbconvert_exporter": "python",
   "pygments_lexer": "ipython3",
   "version": "3.8.1"
  }
 },
 "nbformat": 4,
 "nbformat_minor": 4
}
