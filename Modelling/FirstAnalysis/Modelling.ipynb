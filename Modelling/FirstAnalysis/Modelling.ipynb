{
 "cells": [
  {
   "cell_type": "code",
   "execution_count": 1,
   "metadata": {
    "ExecuteTime": {
     "end_time": "2022-01-25T12:31:00.120426Z",
     "start_time": "2022-01-25T12:30:59.263744Z"
    }
   },
   "outputs": [],
   "source": [
    "import pandas as pd \n",
    "import numpy as np \n",
    "import matplotlib.pyplot as plt \n",
    "import seaborn as sns\n",
    "\n",
    "from sklearn.model_selection import KFold\n",
    "from sklearn.metrics import accuracy_score\n",
    "from sklearn.metrics import precision_score\n",
    "from sklearn.metrics import recall_score\n",
    "from sklearn.model_selection import train_test_split\n",
    "from sklearn.metrics import confusion_matrix\n",
    "\n",
    "from sklearn.preprocessing import StandardScaler\n",
    "\n",
    "from sklearn.linear_model import LogisticRegression\n",
    "from sklearn import svm\n",
    "from sklearn.neural_network import MLPClassifier\n",
    "from sklearn.ensemble import RandomForestClassifier\n",
    "from sklearn.naive_bayes import GaussianNB\n",
    "from sklearn.neighbors import KNeighborsClassifier\n",
    "\n",
    "import statsmodels.api as sm"
   ]
  },
  {
   "cell_type": "markdown",
   "metadata": {},
   "source": [
    "## Import"
   ]
  },
  {
   "cell_type": "code",
   "execution_count": 17,
   "metadata": {
    "ExecuteTime": {
     "end_time": "2022-01-25T12:38:59.785875Z",
     "start_time": "2022-01-25T12:38:59.756109Z"
    }
   },
   "outputs": [],
   "source": [
    "wX_train = pd.read_csv(\"wXtrain.csv\")\n",
    "wX_val = pd.read_csv(\"wXval.csv\")\n",
    "wX_test = pd.read_csv(\"wXtest.csv\")\n",
    "\n",
    "wy_train = pd.read_csv(\"wytrain.csv\")\n",
    "wy_val = pd.read_csv(\"wyval.csv\")\n",
    "wy_test = pd.read_csv(\"wytest.csv\")\n",
    "\n",
    "mX_train = pd.read_csv(\"mXtrain.csv\")\n",
    "mX_val = pd.read_csv(\"mXval.csv\")\n",
    "mX_test = pd.read_csv(\"mXtest.csv\")\n",
    "\n",
    "my_train = pd.read_csv(\"mytrain.csv\")\n",
    "my_val = pd.read_csv(\"myval.csv\")\n",
    "my_test = pd.read_csv(\"mytest.csv\")"
   ]
  },
  {
   "cell_type": "markdown",
   "metadata": {},
   "source": [
    "## Scaling"
   ]
  },
  {
   "cell_type": "code",
   "execution_count": 18,
   "metadata": {
    "ExecuteTime": {
     "end_time": "2022-01-25T12:39:00.091559Z",
     "start_time": "2022-01-25T12:39:00.060649Z"
    }
   },
   "outputs": [],
   "source": [
    "from sklearn.preprocessing import RobustScaler\n",
    "scaler = StandardScaler()\n",
    "\n",
    "mX_train[mX_train.columns] = scaler.fit_transform(mX_train[mX_train.columns])\n",
    "wX_train[wX_train.columns] = scaler.fit_transform(wX_train[wX_train.columns])\n",
    "\n",
    "mX_val[mX_val.columns] = scaler.fit_transform(mX_val[mX_val.columns])\n",
    "mX_test[mX_test.columns] = scaler.fit_transform(mX_test[mX_test.columns])"
   ]
  },
  {
   "cell_type": "markdown",
   "metadata": {},
   "source": [
    "## Logistic Regression "
   ]
  },
  {
   "cell_type": "markdown",
   "metadata": {},
   "source": [
    "### Men"
   ]
  },
  {
   "cell_type": "code",
   "execution_count": 19,
   "metadata": {
    "ExecuteTime": {
     "end_time": "2022-01-25T12:39:00.898346Z",
     "start_time": "2022-01-25T12:39:00.870425Z"
    }
   },
   "outputs": [
    {
     "name": "stdout",
     "output_type": "stream",
     "text": [
      "Optimization terminated successfully.\n",
      "         Current function value: 0.456369\n",
      "         Iterations 7\n"
     ]
    },
    {
     "data": {
      "text/html": [
       "<table class=\"simpletable\">\n",
       "<caption>Logit Regression Results</caption>\n",
       "<tr>\n",
       "  <th>Dep. Variable:</th>          <td>dec</td>       <th>  No. Observations:  </th>   <td>  2063</td>  \n",
       "</tr>\n",
       "<tr>\n",
       "  <th>Model:</th>                 <td>Logit</td>      <th>  Df Residuals:      </th>   <td>  2053</td>  \n",
       "</tr>\n",
       "<tr>\n",
       "  <th>Method:</th>                 <td>MLE</td>       <th>  Df Model:          </th>   <td>     9</td>  \n",
       "</tr>\n",
       "<tr>\n",
       "  <th>Date:</th>            <td>Tue, 25 Jan 2022</td> <th>  Pseudo R-squ.:     </th>   <td>0.3415</td>  \n",
       "</tr>\n",
       "<tr>\n",
       "  <th>Time:</th>                <td>13:39:00</td>     <th>  Log-Likelihood:    </th>  <td> -941.49</td> \n",
       "</tr>\n",
       "<tr>\n",
       "  <th>converged:</th>             <td>True</td>       <th>  LL-Null:           </th>  <td> -1429.8</td> \n",
       "</tr>\n",
       "<tr>\n",
       "  <th>Covariance Type:</th>     <td>nonrobust</td>    <th>  LLR p-value:       </th> <td>1.872e-204</td>\n",
       "</tr>\n",
       "</table>\n",
       "<table class=\"simpletable\">\n",
       "<tr>\n",
       "      <td></td>        <th>coef</th>     <th>std err</th>      <th>z</th>      <th>P>|z|</th>  <th>[0.025</th>    <th>0.975]</th>  \n",
       "</tr>\n",
       "<tr>\n",
       "  <th>attr</th>     <td>    1.0252</td> <td>    0.088</td> <td>   11.684</td> <td> 0.000</td> <td>    0.853</td> <td>    1.197</td>\n",
       "</tr>\n",
       "<tr>\n",
       "  <th>sinc</th>     <td>   -0.5181</td> <td>    0.085</td> <td>   -6.092</td> <td> 0.000</td> <td>   -0.685</td> <td>   -0.351</td>\n",
       "</tr>\n",
       "<tr>\n",
       "  <th>intel</th>    <td>   -0.1290</td> <td>    0.089</td> <td>   -1.454</td> <td> 0.146</td> <td>   -0.303</td> <td>    0.045</td>\n",
       "</tr>\n",
       "<tr>\n",
       "  <th>fun</th>      <td>    0.2572</td> <td>    0.087</td> <td>    2.961</td> <td> 0.003</td> <td>    0.087</td> <td>    0.428</td>\n",
       "</tr>\n",
       "<tr>\n",
       "  <th>like</th>     <td>    1.2306</td> <td>    0.107</td> <td>   11.495</td> <td> 0.000</td> <td>    1.021</td> <td>    1.440</td>\n",
       "</tr>\n",
       "<tr>\n",
       "  <th>int_corr</th> <td>   -0.0754</td> <td>    0.058</td> <td>   -1.307</td> <td> 0.191</td> <td>   -0.188</td> <td>    0.038</td>\n",
       "</tr>\n",
       "<tr>\n",
       "  <th>amb</th>      <td>   -0.2536</td> <td>    0.079</td> <td>   -3.228</td> <td> 0.001</td> <td>   -0.408</td> <td>   -0.100</td>\n",
       "</tr>\n",
       "<tr>\n",
       "  <th>samerace</th> <td>   -0.0995</td> <td>    0.058</td> <td>   -1.730</td> <td> 0.084</td> <td>   -0.212</td> <td>    0.013</td>\n",
       "</tr>\n",
       "<tr>\n",
       "  <th>exphappy</th> <td>   -0.1816</td> <td>    0.060</td> <td>   -3.037</td> <td> 0.002</td> <td>   -0.299</td> <td>   -0.064</td>\n",
       "</tr>\n",
       "<tr>\n",
       "  <th>prob</th>     <td>    0.3606</td> <td>    0.072</td> <td>    5.025</td> <td> 0.000</td> <td>    0.220</td> <td>    0.501</td>\n",
       "</tr>\n",
       "</table>"
      ],
      "text/plain": [
       "<class 'statsmodels.iolib.summary.Summary'>\n",
       "\"\"\"\n",
       "                           Logit Regression Results                           \n",
       "==============================================================================\n",
       "Dep. Variable:                    dec   No. Observations:                 2063\n",
       "Model:                          Logit   Df Residuals:                     2053\n",
       "Method:                           MLE   Df Model:                            9\n",
       "Date:                Tue, 25 Jan 2022   Pseudo R-squ.:                  0.3415\n",
       "Time:                        13:39:00   Log-Likelihood:                -941.49\n",
       "converged:                       True   LL-Null:                       -1429.8\n",
       "Covariance Type:            nonrobust   LLR p-value:                1.872e-204\n",
       "==============================================================================\n",
       "                 coef    std err          z      P>|z|      [0.025      0.975]\n",
       "------------------------------------------------------------------------------\n",
       "attr           1.0252      0.088     11.684      0.000       0.853       1.197\n",
       "sinc          -0.5181      0.085     -6.092      0.000      -0.685      -0.351\n",
       "intel         -0.1290      0.089     -1.454      0.146      -0.303       0.045\n",
       "fun            0.2572      0.087      2.961      0.003       0.087       0.428\n",
       "like           1.2306      0.107     11.495      0.000       1.021       1.440\n",
       "int_corr      -0.0754      0.058     -1.307      0.191      -0.188       0.038\n",
       "amb           -0.2536      0.079     -3.228      0.001      -0.408      -0.100\n",
       "samerace      -0.0995      0.058     -1.730      0.084      -0.212       0.013\n",
       "exphappy      -0.1816      0.060     -3.037      0.002      -0.299      -0.064\n",
       "prob           0.3606      0.072      5.025      0.000       0.220       0.501\n",
       "==============================================================================\n",
       "\"\"\""
      ]
     },
     "execution_count": 19,
     "metadata": {},
     "output_type": "execute_result"
    }
   ],
   "source": [
    "traits = sm.Logit(my_train, mX_train)\n",
    "results_traits = traits.fit()\n",
    "results_traits.summary()"
   ]
  },
  {
   "cell_type": "markdown",
   "metadata": {},
   "source": [
    "### Women"
   ]
  },
  {
   "cell_type": "code",
   "execution_count": 20,
   "metadata": {
    "ExecuteTime": {
     "end_time": "2022-01-25T12:39:01.732977Z",
     "start_time": "2022-01-25T12:39:01.730595Z"
    }
   },
   "outputs": [],
   "source": [
    "#sns.heatmap(attr_clean_women.corr(), annot=True)"
   ]
  },
  {
   "cell_type": "code",
   "execution_count": 21,
   "metadata": {
    "ExecuteTime": {
     "end_time": "2022-01-25T12:39:02.146530Z",
     "start_time": "2022-01-25T12:39:02.118765Z"
    }
   },
   "outputs": [
    {
     "name": "stdout",
     "output_type": "stream",
     "text": [
      "Optimization terminated successfully.\n",
      "         Current function value: 0.532809\n",
      "         Iterations 6\n"
     ]
    },
    {
     "data": {
      "text/html": [
       "<table class=\"simpletable\">\n",
       "<caption>Logit Regression Results</caption>\n",
       "<tr>\n",
       "  <th>Dep. Variable:</th>          <td>dec</td>       <th>  No. Observations:  </th>   <td>  2028</td>  \n",
       "</tr>\n",
       "<tr>\n",
       "  <th>Model:</th>                 <td>Logit</td>      <th>  Df Residuals:      </th>   <td>  2018</td>  \n",
       "</tr>\n",
       "<tr>\n",
       "  <th>Method:</th>                 <td>MLE</td>       <th>  Df Model:          </th>   <td>     9</td>  \n",
       "</tr>\n",
       "<tr>\n",
       "  <th>Date:</th>            <td>Tue, 25 Jan 2022</td> <th>  Pseudo R-squ.:     </th>   <td>0.1980</td>  \n",
       "</tr>\n",
       "<tr>\n",
       "  <th>Time:</th>                <td>13:39:02</td>     <th>  Log-Likelihood:    </th>  <td> -1080.5</td> \n",
       "</tr>\n",
       "<tr>\n",
       "  <th>converged:</th>             <td>True</td>       <th>  LL-Null:           </th>  <td> -1347.4</td> \n",
       "</tr>\n",
       "<tr>\n",
       "  <th>Covariance Type:</th>     <td>nonrobust</td>    <th>  LLR p-value:       </th> <td>3.477e-109</td>\n",
       "</tr>\n",
       "</table>\n",
       "<table class=\"simpletable\">\n",
       "<tr>\n",
       "      <td></td>        <th>coef</th>     <th>std err</th>      <th>z</th>      <th>P>|z|</th>  <th>[0.025</th>    <th>0.975]</th>  \n",
       "</tr>\n",
       "<tr>\n",
       "  <th>attr</th>     <td>    0.6587</td> <td>    0.074</td> <td>    8.889</td> <td> 0.000</td> <td>    0.513</td> <td>    0.804</td>\n",
       "</tr>\n",
       "<tr>\n",
       "  <th>sinc</th>     <td>   -0.1549</td> <td>    0.079</td> <td>   -1.962</td> <td> 0.050</td> <td>   -0.310</td> <td>   -0.000</td>\n",
       "</tr>\n",
       "<tr>\n",
       "  <th>intel</th>    <td>   -0.0160</td> <td>    0.087</td> <td>   -0.185</td> <td> 0.854</td> <td>   -0.186</td> <td>    0.154</td>\n",
       "</tr>\n",
       "<tr>\n",
       "  <th>fun</th>      <td>    0.3731</td> <td>    0.080</td> <td>    4.667</td> <td> 0.000</td> <td>    0.216</td> <td>    0.530</td>\n",
       "</tr>\n",
       "<tr>\n",
       "  <th>like</th>     <td>    0.6236</td> <td>    0.091</td> <td>    6.875</td> <td> 0.000</td> <td>    0.446</td> <td>    0.801</td>\n",
       "</tr>\n",
       "<tr>\n",
       "  <th>int_corr</th> <td>   -0.0192</td> <td>    0.053</td> <td>   -0.362</td> <td> 0.717</td> <td>   -0.123</td> <td>    0.085</td>\n",
       "</tr>\n",
       "<tr>\n",
       "  <th>amb</th>      <td>   -0.1204</td> <td>    0.075</td> <td>   -1.615</td> <td> 0.106</td> <td>   -0.267</td> <td>    0.026</td>\n",
       "</tr>\n",
       "<tr>\n",
       "  <th>samerace</th> <td>    0.0306</td> <td>    0.053</td> <td>    0.577</td> <td> 0.564</td> <td>   -0.073</td> <td>    0.135</td>\n",
       "</tr>\n",
       "<tr>\n",
       "  <th>exphappy</th> <td>    0.2745</td> <td>    0.055</td> <td>    5.032</td> <td> 0.000</td> <td>    0.168</td> <td>    0.381</td>\n",
       "</tr>\n",
       "<tr>\n",
       "  <th>prob</th>     <td>    0.2404</td> <td>    0.061</td> <td>    3.911</td> <td> 0.000</td> <td>    0.120</td> <td>    0.361</td>\n",
       "</tr>\n",
       "</table>"
      ],
      "text/plain": [
       "<class 'statsmodels.iolib.summary.Summary'>\n",
       "\"\"\"\n",
       "                           Logit Regression Results                           \n",
       "==============================================================================\n",
       "Dep. Variable:                    dec   No. Observations:                 2028\n",
       "Model:                          Logit   Df Residuals:                     2018\n",
       "Method:                           MLE   Df Model:                            9\n",
       "Date:                Tue, 25 Jan 2022   Pseudo R-squ.:                  0.1980\n",
       "Time:                        13:39:02   Log-Likelihood:                -1080.5\n",
       "converged:                       True   LL-Null:                       -1347.4\n",
       "Covariance Type:            nonrobust   LLR p-value:                3.477e-109\n",
       "==============================================================================\n",
       "                 coef    std err          z      P>|z|      [0.025      0.975]\n",
       "------------------------------------------------------------------------------\n",
       "attr           0.6587      0.074      8.889      0.000       0.513       0.804\n",
       "sinc          -0.1549      0.079     -1.962      0.050      -0.310      -0.000\n",
       "intel         -0.0160      0.087     -0.185      0.854      -0.186       0.154\n",
       "fun            0.3731      0.080      4.667      0.000       0.216       0.530\n",
       "like           0.6236      0.091      6.875      0.000       0.446       0.801\n",
       "int_corr      -0.0192      0.053     -0.362      0.717      -0.123       0.085\n",
       "amb           -0.1204      0.075     -1.615      0.106      -0.267       0.026\n",
       "samerace       0.0306      0.053      0.577      0.564      -0.073       0.135\n",
       "exphappy       0.2745      0.055      5.032      0.000       0.168       0.381\n",
       "prob           0.2404      0.061      3.911      0.000       0.120       0.361\n",
       "==============================================================================\n",
       "\"\"\""
      ]
     },
     "execution_count": 21,
     "metadata": {},
     "output_type": "execute_result"
    }
   ],
   "source": [
    "traits = sm.Logit(wy_train, wX_train)\n",
    "results_traits = traits.fit()\n",
    "results_traits.summary()"
   ]
  },
  {
   "cell_type": "markdown",
   "metadata": {},
   "source": [
    "## Comparison of Classifiers"
   ]
  },
  {
   "cell_type": "code",
   "execution_count": 7,
   "metadata": {
    "ExecuteTime": {
     "end_time": "2022-01-25T12:31:00.267166Z",
     "start_time": "2022-01-25T12:31:00.242299Z"
    }
   },
   "outputs": [],
   "source": [
    "wX_train = pd.read_csv(\"wXtrain.csv\")\n",
    "wX_val = pd.read_csv(\"wXval.csv\")\n",
    "wX_test = pd.read_csv(\"wXtest.csv\")\n",
    "\n",
    "wy_train = pd.read_csv(\"wytrain.csv\")\n",
    "wy_val = pd.read_csv(\"wyval.csv\")\n",
    "wy_test = pd.read_csv(\"wytest.csv\")\n",
    "\n",
    "mX_train = pd.read_csv(\"mXtrain.csv\")\n",
    "mX_val = pd.read_csv(\"mXval.csv\")\n",
    "mX_test = pd.read_csv(\"mXtest.csv\")\n",
    "\n",
    "my_train = pd.read_csv(\"mytrain.csv\")\n",
    "my_val = pd.read_csv(\"myval.csv\")\n",
    "my_test = pd.read_csv(\"mytest.csv\")"
   ]
  },
  {
   "cell_type": "code",
   "execution_count": 8,
   "metadata": {
    "ExecuteTime": {
     "end_time": "2022-01-25T12:31:00.274423Z",
     "start_time": "2022-01-25T12:31:00.270823Z"
    }
   },
   "outputs": [],
   "source": [
    "def train_val_score(X_train, y_train, X_val, y_val, model):\n",
    "    '''\n",
    "    Train and Scores\n",
    "    '''\n",
    "    model.fit(X_train, y_train)\n",
    "    y_hat = model.predict(X_val)\n",
    "    scores = (accuracy_score(y_val, y_hat), \n",
    "             precision_score(y_val, y_hat), \n",
    "             recall_score(y_val, y_hat))\n",
    "    return scores"
   ]
  },
  {
   "cell_type": "code",
   "execution_count": 9,
   "metadata": {
    "ExecuteTime": {
     "end_time": "2022-01-25T12:31:00.280201Z",
     "start_time": "2022-01-25T12:31:00.276843Z"
    }
   },
   "outputs": [],
   "source": [
    "def test_score(X_test,y_test, model):\n",
    "    '''\n",
    "    Test Score\n",
    "    '''\n",
    "    y_hat = model.predict(X_test)\n",
    "    scores = (\n",
    "            accuracy_score(y_test, y_hat), \n",
    "             precision_score(y_test, y_hat), \n",
    "             recall_score(y_test, y_hat),\n",
    "             confusion_matrix(y_test, y_hat)\n",
    "             )\n",
    "    return scores"
   ]
  },
  {
   "cell_type": "markdown",
   "metadata": {},
   "source": [
    "## Women"
   ]
  },
  {
   "cell_type": "code",
   "execution_count": 10,
   "metadata": {
    "ExecuteTime": {
     "end_time": "2022-01-25T12:31:00.285444Z",
     "start_time": "2022-01-25T12:31:00.281999Z"
    }
   },
   "outputs": [],
   "source": [
    "model_lr = LogisticRegression()\n",
    "\n",
    "model_svc = svm.SVC(kernel='rbf', C=2)\n",
    "\n",
    "model_nn = MLPClassifier(max_iter=10000, early_stopping=True, learning_rate=\"adaptive\", \n",
    "                      hidden_layer_sizes=(100,), learning_rate_init=1e-1)\n",
    "\n",
    "model_rf = RandomForestClassifier(max_depth=10, n_estimators=10, max_features=6)\n",
    "\n",
    "model_nb = GaussianNB()\n",
    "\n",
    "model_nc = KNeighborsClassifier(5)"
   ]
  },
  {
   "cell_type": "code",
   "execution_count": 11,
   "metadata": {
    "ExecuteTime": {
     "end_time": "2022-01-25T12:31:00.625341Z",
     "start_time": "2022-01-25T12:31:00.287077Z"
    }
   },
   "outputs": [
    {
     "name": "stdout",
     "output_type": "stream",
     "text": [
      "Score Logistic Regression: Mean Accuracy: 0.7575\n",
      "Score Logistic Regression: Mean Precision: 0.6787\n",
      "Score Logistic Regression: Mean Recall: 0.6065\n",
      "\n",
      " --- \n",
      "\n",
      "Score Support Vector Classifier: Mean Accuracy: 0.7609\n",
      "Score Support Vector Classifier: Mean Precision: 0.6992\n",
      "Score Support Vector Classifier: Mean Recall: 0.5774\n",
      "\n",
      " --- \n",
      "\n",
      "Score Multi Layer Perceptron (1 Hidden Layer): Mean Accuracy: 0.7391\n",
      "Score Multi Layer Perceptron (1 Hidden Layer): Mean Precision:  0.7173\n",
      "Score Multi Layer Perceptron (1 Hidden Layer): Mean Recall: 0.4419\n",
      "\n",
      " --- \n",
      "\n",
      "Random Forest: Mean Accuracy: 0.7299\n",
      "Random Forest: Mean Precision:  0.6384\n",
      "Random Forest: Mean Recall: 0.5581\n",
      "\n",
      " --- \n",
      "\n",
      "Naive Bayes: Mean Accuracy: 0.7\n",
      "Naive Bayes: Mean Precision: 0.5614\n",
      "Naive Bayes: Mean Recall: 0.7226\n",
      "\n",
      " --- \n",
      "\n",
      "Nearest Neighbor: Mean Accuracy: 0.7264\n",
      "Nearest Neighbor: Mean Precision: 0.6277\n",
      "Nearest Neighbor: Mean Recall: 0.571\n"
     ]
    }
   ],
   "source": [
    "score_lr = train_val_score(wX_train, wy_train.to_numpy().reshape(wX_train.shape[0]), \n",
    "                           wX_val, wy_val.to_numpy().reshape(wX_val.shape[0]),\n",
    "                            model_lr)\n",
    "\n",
    "score_svc = train_val_score(wX_train, wy_train.to_numpy().reshape(wX_train.shape[0]), \n",
    "                           wX_val, wy_val.to_numpy().reshape(wX_val.shape[0]),\n",
    "                            model_svc)\n",
    "\n",
    "score_nn = train_val_score(wX_train, wy_train.to_numpy().reshape(wX_train.shape[0]), \n",
    "                           wX_val, wy_val.to_numpy().reshape(wX_val.shape[0]),\n",
    "                            model_nn)\n",
    "\n",
    "score_rf = train_val_score(wX_train, wy_train.to_numpy().reshape(wX_train.shape[0]), \n",
    "                           wX_val, wy_val.to_numpy().reshape(wX_val.shape[0]),\n",
    "                            model_rf)\n",
    "\n",
    "score_nb = train_val_score(wX_train, wy_train.to_numpy().reshape(wX_train.shape[0]), \n",
    "                           wX_val, wy_val.to_numpy().reshape(wX_val.shape[0]), \n",
    "                            model_nb)\n",
    "\n",
    "score_nc = train_val_score(wX_train, wy_train.to_numpy().reshape(wX_train.shape[0]), \n",
    "                           wX_val, wy_val.to_numpy().reshape(wX_val.shape[0]), \n",
    "                            model_nc)\n",
    "\n",
    "print(f\"Score Logistic Regression: Mean Accuracy: {round(score_lr[0],4)}\")\n",
    "print(f\"Score Logistic Regression: Mean Precision: {round(score_lr[1],4)}\")\n",
    "print(f\"Score Logistic Regression: Mean Recall: {round(score_lr[2],4)}\")\n",
    "print(\"\\n --- \\n\")\n",
    "\n",
    "print(f\"Score Support Vector Classifier: Mean Accuracy: {round(score_svc[0],4)}\")\n",
    "print(f\"Score Support Vector Classifier: Mean Precision: {round(score_svc[1],4)}\")\n",
    "print(f\"Score Support Vector Classifier: Mean Recall: {round(score_svc[2],4)}\")\n",
    "print(\"\\n --- \\n\")\n",
    "\n",
    "print(f\"Score Multi Layer Perceptron (1 Hidden Layer): Mean Accuracy: {round(score_nn[0],4)}\")\n",
    "print(f\"Score Multi Layer Perceptron (1 Hidden Layer): Mean Precision:  {round(score_nn[1],4)}\")\n",
    "print(f\"Score Multi Layer Perceptron (1 Hidden Layer): Mean Recall: {round(score_nn[2],4)}\")\n",
    "print(\"\\n --- \\n\")\n",
    "\n",
    "print(f\"Random Forest: Mean Accuracy: {round(score_rf[0],4)}\")\n",
    "print(f\"Random Forest: Mean Precision:  {round(score_rf[1],4)}\")\n",
    "print(f\"Random Forest: Mean Recall: {round(score_rf[2],4)}\")\n",
    "print(\"\\n --- \\n\")\n",
    "\n",
    "print(f\"Naive Bayes: Mean Accuracy: {round(score_nb[0],4)}\")\n",
    "print(f\"Naive Bayes: Mean Precision: {round(score_nb[1],4)}\")\n",
    "print(f\"Naive Bayes: Mean Recall: {round(score_nb[2],4)}\")\n",
    "print(\"\\n --- \\n\")\n",
    "\n",
    "print(f\"Nearest Neighbor: Mean Accuracy: {round(score_nc[0],4)}\")\n",
    "print(f\"Nearest Neighbor: Mean Precision: {round(score_nc[1],4)}\")\n",
    "print(f\"Nearest Neighbor: Mean Recall: {round(score_nc[2],4)}\")"
   ]
  },
  {
   "cell_type": "code",
   "execution_count": 12,
   "metadata": {
    "ExecuteTime": {
     "end_time": "2022-01-25T12:31:00.641001Z",
     "start_time": "2022-01-25T12:31:00.627413Z"
    }
   },
   "outputs": [
    {
     "name": "stdout",
     "output_type": "stream",
     "text": [
      "Score Test: Accuracy: 0.75\n",
      "Score Test: Precision: 0.67\n",
      "Score Test: Recall: 0.62\n",
      "---------\n",
      "Confusion Matrix: [[381  79]\n",
      " [101 164]]\n"
     ]
    }
   ],
   "source": [
    "score_test = test_score(wX_test, wy_test.to_numpy().reshape(wX_test.shape[0]),\n",
    "                            model_lr)\n",
    "\n",
    "print(f\"Score Test: Accuracy: {round(score_test[0],2)}\")\n",
    "print(f\"Score Test: Precision: {round(score_test[1],2)}\")\n",
    "print(f\"Score Test: Recall: {round(score_test[2],2)}\")\n",
    "\n",
    "print(3*\"---\")\n",
    "\n",
    "print(f\"Confusion Matrix: {score_test[3]}\")"
   ]
  },
  {
   "cell_type": "markdown",
   "metadata": {
    "ExecuteTime": {
     "end_time": "2022-01-20T10:18:47.471949Z",
     "start_time": "2022-01-20T10:18:47.466602Z"
    }
   },
   "source": [
    "## Men"
   ]
  },
  {
   "cell_type": "code",
   "execution_count": 13,
   "metadata": {
    "ExecuteTime": {
     "end_time": "2022-01-25T12:31:00.647048Z",
     "start_time": "2022-01-25T12:31:00.643096Z"
    }
   },
   "outputs": [],
   "source": [
    "model_lr = LogisticRegression()\n",
    "\n",
    "model_svc = svm.SVC(kernel='rbf', C=2)\n",
    "\n",
    "model_nn = MLPClassifier(max_iter=10000, early_stopping=True, learning_rate=\"adaptive\", \n",
    "                      hidden_layer_sizes=(100,), learning_rate_init=1e-1)\n",
    "\n",
    "model_rf = RandomForestClassifier(max_depth=10, n_estimators=10, max_features=6)\n",
    "\n",
    "model_nb = GaussianNB()\n",
    "\n",
    "model_nc = KNeighborsClassifier(5)"
   ]
  },
  {
   "cell_type": "code",
   "execution_count": 14,
   "metadata": {
    "ExecuteTime": {
     "end_time": "2022-01-25T12:31:00.970233Z",
     "start_time": "2022-01-25T12:31:00.649341Z"
    }
   },
   "outputs": [
    {
     "name": "stdout",
     "output_type": "stream",
     "text": [
      "Score Logistic Regression: Mean Accuracy: 0.7785\n",
      "Score Logistic Regression: Mean Precision: 0.7528\n",
      "Score Logistic Regression: Mean Recall: 0.7957\n",
      "\n",
      " --- \n",
      "\n",
      "Score Support Vector Classifier: Mean Accuracy: 0.7808\n",
      "Score Support Vector Classifier: Mean Precision: 0.742\n",
      "Score Support Vector Classifier: Mean Recall: 0.8266\n",
      "\n",
      " --- \n",
      "\n",
      "Score Multi Layer Perceptron (1 Hidden Layer): Mean Accuracy: 0.7469\n",
      "Score Multi Layer Perceptron (1 Hidden Layer): Mean Precision:  0.7039\n",
      "Score Multi Layer Perceptron (1 Hidden Layer): Mean Recall: 0.8076\n",
      "\n",
      " --- \n",
      "\n",
      "Random Forest: Mean Accuracy: 0.7672\n",
      "Random Forest: Mean Precision:  0.7394\n",
      "Random Forest: Mean Recall: 0.7886\n",
      "\n",
      " --- \n",
      "\n",
      "Naive Bayes: Mean Accuracy: 0.7571\n",
      "Naive Bayes: Mean Precision: 0.7137\n",
      "Naive Bayes: Mean Recall: 0.8171\n",
      "\n",
      " --- \n",
      "\n",
      "Nearest Neighbor: Mean Accuracy: 0.7571\n",
      "Nearest Neighbor: Mean Precision: 0.7155\n",
      "Nearest Neighbor: Mean Recall: 0.8124\n"
     ]
    }
   ],
   "source": [
    "score_lr = train_val_score(mX_train, my_train.to_numpy().reshape(mX_train.shape[0]), \n",
    "                           mX_val, my_val.to_numpy().reshape(mX_val.shape[0]),\n",
    "                            model_lr)\n",
    "\n",
    "score_svc = train_val_score(mX_train, my_train.to_numpy().reshape(mX_train.shape[0]), \n",
    "                           mX_val, my_val.to_numpy().reshape(mX_val.shape[0]),\n",
    "                            model_svc)\n",
    "\n",
    "score_nn = train_val_score(mX_train, my_train.to_numpy().reshape(mX_train.shape[0]), \n",
    "                           mX_val, my_val.to_numpy().reshape(mX_val.shape[0]),\n",
    "                            model_nn)\n",
    "\n",
    "score_rf = train_val_score(mX_train, my_train.to_numpy().reshape(mX_train.shape[0]), \n",
    "                           mX_val, my_val.to_numpy().reshape(mX_val.shape[0]),\n",
    "                            model_rf)\n",
    "\n",
    "score_nb = train_val_score(mX_train, my_train.to_numpy().reshape(mX_train.shape[0]), \n",
    "                           mX_val, my_val.to_numpy().reshape(mX_val.shape[0]),\n",
    "                            model_nb)\n",
    "\n",
    "score_nc = train_val_score(mX_train, my_train.to_numpy().reshape(mX_train.shape[0]), \n",
    "                           mX_val, my_val.to_numpy().reshape(mX_val.shape[0]),\n",
    "                            model_nc)\n",
    "\n",
    "print(f\"Score Logistic Regression: Mean Accuracy: {round(score_lr[0],4)}\")\n",
    "print(f\"Score Logistic Regression: Mean Precision: {round(score_lr[1],4)}\")\n",
    "print(f\"Score Logistic Regression: Mean Recall: {round(score_lr[2],4)}\")\n",
    "print(\"\\n --- \\n\")\n",
    "\n",
    "print(f\"Score Support Vector Classifier: Mean Accuracy: {round(score_svc[0],4)}\")\n",
    "print(f\"Score Support Vector Classifier: Mean Precision: {round(score_svc[1],4)}\")\n",
    "print(f\"Score Support Vector Classifier: Mean Recall: {round(score_svc[2],4)}\")\n",
    "print(\"\\n --- \\n\")\n",
    "\n",
    "print(f\"Score Multi Layer Perceptron (1 Hidden Layer): Mean Accuracy: {round(score_nn[0],4)}\")\n",
    "print(f\"Score Multi Layer Perceptron (1 Hidden Layer): Mean Precision:  {round(score_nn[1],4)}\")\n",
    "print(f\"Score Multi Layer Perceptron (1 Hidden Layer): Mean Recall: {round(score_nn[2],4)}\")\n",
    "print(\"\\n --- \\n\")\n",
    "\n",
    "print(f\"Random Forest: Mean Accuracy: {round(score_rf[0],4)}\")\n",
    "print(f\"Random Forest: Mean Precision:  {round(score_rf[1],4)}\")\n",
    "print(f\"Random Forest: Mean Recall: {round(score_rf[2],4)}\")\n",
    "print(\"\\n --- \\n\")\n",
    "\n",
    "print(f\"Naive Bayes: Mean Accuracy: {round(score_nb[0],4)}\")\n",
    "print(f\"Naive Bayes: Mean Precision: {round(score_nb[1],4)}\")\n",
    "print(f\"Naive Bayes: Mean Recall: {round(score_nb[2],4)}\")\n",
    "print(\"\\n --- \\n\")\n",
    "\n",
    "print(f\"Nearest Neighbor: Mean Accuracy: {round(score_nc[0],4)}\")\n",
    "print(f\"Nearest Neighbor: Mean Precision: {round(score_nc[1],4)}\")\n",
    "print(f\"Nearest Neighbor: Mean Recall: {round(score_nc[2],4)}\")"
   ]
  },
  {
   "cell_type": "code",
   "execution_count": 15,
   "metadata": {
    "ExecuteTime": {
     "end_time": "2022-01-25T12:31:00.986517Z",
     "start_time": "2022-01-25T12:31:00.972315Z"
    }
   },
   "outputs": [
    {
     "name": "stdout",
     "output_type": "stream",
     "text": [
      "Score Test: Accuracy: 0.74\n",
      "Score Test: Precision: 0.62\n",
      "Score Test: Recall: 0.75\n",
      "---------\n",
      "Confusion Matrix: [[338 122]\n",
      " [ 66 199]]\n"
     ]
    }
   ],
   "source": [
    "score_test = test_score(wX_test, wy_test.to_numpy().reshape(wX_test.shape[0]),\n",
    "                            model_lr)\n",
    "\n",
    "print(f\"Score Test: Accuracy: {round(score_test[0],2)}\")\n",
    "print(f\"Score Test: Precision: {round(score_test[1],2)}\")\n",
    "print(f\"Score Test: Recall: {round(score_test[2],2)}\")\n",
    "\n",
    "print(3*\"---\")\n",
    "\n",
    "print(f\"Confusion Matrix: {score_test[3]}\")"
   ]
  },
  {
   "cell_type": "code",
   "execution_count": null,
   "metadata": {},
   "outputs": [],
   "source": []
  }
 ],
 "metadata": {
  "kernelspec": {
   "display_name": "Python 3",
   "language": "python",
   "name": "python3"
  },
  "language_info": {
   "codemirror_mode": {
    "name": "ipython",
    "version": 3
   },
   "file_extension": ".py",
   "mimetype": "text/x-python",
   "name": "python",
   "nbconvert_exporter": "python",
   "pygments_lexer": "ipython3",
   "version": "3.8.1"
  }
 },
 "nbformat": 4,
 "nbformat_minor": 4
}
